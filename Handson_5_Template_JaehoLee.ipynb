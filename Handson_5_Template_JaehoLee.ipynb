{
 "cells": [
  {
   "cell_type": "markdown",
   "metadata": {},
   "source": [
    "# File Input\n",
    "\n",
    "To submit this assignment in D2l, post the link to your notebook file on your GitHub account."
   ]
  },
  {
   "cell_type": "markdown",
   "metadata": {},
   "source": [
    "## 7.1 Pig Dice Rules\n",
    "Create a program that reads a list of rules from a file and displays them.\n",
    "\n",
    "### Console:\n",
    "```powershell\n",
    "Pig Dice Rules:\n",
    "*\tSee how many turns it takes you to get to 20.\n",
    "*\tTurn ends when player rolls a 1 or chooses to hold.\n",
    "*\tIf you roll a 1, you lose all points earned during the turn.\n",
    "*\tIf you hold, you save all points earned during the turn.\n",
    "```\n",
    "\n",
    "### Specifications:\n",
    "- Use the attached text file named `pig_dice_rules.txt` in the corresponding Directory.\n",
    "- Your program should read the text file and display it on the console.\n"
   ]
  },
  {
   "cell_type": "code",
   "execution_count": 7,
   "metadata": {},
   "outputs": [
    {
     "name": "stdout",
     "output_type": "stream",
     "text": [
      "Pig Dice Rules:\n",
      "* See how many turns it takes you to get to 20.\n",
      "* Turn ends when player rolls a 1 or chooses to hold.\n",
      "* If you roll a 1, you lose all points earned during the turn.\n",
      "* If you hold, you save all points earned during the turn."
     ]
    }
   ],
   "source": [
    "\"\"\"\n",
    "file = open(\"pig_dice_rules.txt\", \"r\")\n",
    "content = file.read()\n",
    "file.close()\n",
    "print(content)\n",
    "\"\"\"\n",
    "\n",
    "with open(\"pig_dice_rules.txt\", \"r\") as file:\n",
    "    for line in file:\n",
    "        print(line, end=\"\")"
   ]
  },
  {
   "cell_type": "markdown",
   "metadata": {},
   "source": [
    "### 7.2 Wizard Inventory\n",
    "Create a program that keeps track of the items that a wizard can carry.\n",
    "\n",
    "### Console:\n",
    "```powershell\n",
    "The Wizard Inventroy Program\n",
    "\n",
    "COMMAND MENU\n",
    "walk - Walk down the path \n",
    "show - Show all items \n",
    "drop - Drop an item\n",
    "exit - Exit program\n",
    "\n",
    "Command: walk\n",
    "While walking down a path, you see a scroll of uncursing. \n",
    "Do you want to grab it? (y/n): y\n",
    "You picked up a scroll of uncursing.\n",
    "\n",
    "Command: walk\n",
    "While walking down a path, you see an unknown potion. \n",
    "Do you want to grab it? (y/n): y\n",
    "You can't carry any more items. Drop something first.\n",
    "\n",
    "Command: show\n",
    "1.\ta wooden staff\n",
    "2.\ta scroll of invisibility\n",
    "3.\ta crossbow\n",
    "4.\ta scroll of uncursing\n",
    "\n",
    "Command: drop Number: 3\n",
    "You dropped a crossbow.\n",
    "\n",
    "Command: exit \n",
    "Bye!\n",
    "```\n",
    "\n",
    "### Specifications:\n",
    "- Use the attached text file named `wizard_all_items.txt` that contains a list of all the items that a wizard can carry. (in the corresponding directory)\n",
    "- When the user selects the walk command, the program should read the items from the file, randomly pick one, and give the user the option to grab it.\n",
    "- Your program should create another file that stores the items that the wizard is carrying (`wizard_inventory.txt`). Make sure to update this file every time the user grabs or drops an item.\n",
    "- The wizard can only carry **four** items at a time.\n",
    "- For the drop command, display an error message if the user enters an invalid number for the item.\n",
    "\n"
   ]
  },
  {
   "cell_type": "code",
   "execution_count": null,
   "metadata": {},
   "outputs": [
    {
     "name": "stdout",
     "output_type": "stream",
     "text": [
      "The Wizard Inventory Program\n",
      "\n",
      "COMMAND MENU\n",
      "walk - Walk down the path\n",
      "show - Show all items\n",
      "drop - Drop an item\n",
      "exit - Exit program\n",
      "\n"
     ]
    },
    {
     "name": "stdin",
     "output_type": "stream",
     "text": [
      "Command:  show\n"
     ]
    },
    {
     "name": "stdout",
     "output_type": "stream",
     "text": [
      "1.\ta wooden staff\n",
      "2.\ta scroll of uncursing\n",
      "3.\tan unknown potion\n",
      "\n"
     ]
    },
    {
     "name": "stdin",
     "output_type": "stream",
     "text": [
      "Command:  walk\n"
     ]
    },
    {
     "name": "stdout",
     "output_type": "stream",
     "text": [
      "While walking down a path, you see a scroll of invisibility.\n"
     ]
    },
    {
     "name": "stdin",
     "output_type": "stream",
     "text": [
      "Do you want to grab it? (y/n):  y\n"
     ]
    },
    {
     "name": "stdout",
     "output_type": "stream",
     "text": [
      "You picked up a a scroll of invisibility.\n",
      "\n"
     ]
    },
    {
     "name": "stdin",
     "output_type": "stream",
     "text": [
      "Command:  walk\n"
     ]
    },
    {
     "name": "stdout",
     "output_type": "stream",
     "text": [
      "While walking down a path, you see a wizard's cloak.\n"
     ]
    },
    {
     "name": "stdin",
     "output_type": "stream",
     "text": [
      "Do you want to grab it? (y/n):  y\n"
     ]
    },
    {
     "name": "stdout",
     "output_type": "stream",
     "text": [
      "You can't carry any more items. Drop something first.\n",
      "\n"
     ]
    },
    {
     "name": "stdin",
     "output_type": "stream",
     "text": [
      "Command:  drop\n",
      "Number:  4\n"
     ]
    },
    {
     "name": "stdout",
     "output_type": "stream",
     "text": [
      "You dropped a a scroll of invisibility.\n",
      "\n"
     ]
    },
    {
     "name": "stdin",
     "output_type": "stream",
     "text": [
      "Command:  show\n"
     ]
    },
    {
     "name": "stdout",
     "output_type": "stream",
     "text": [
      "1.\ta wooden staff\n",
      "2.\ta scroll of uncursing\n",
      "3.\tan unknown potion\n",
      "\n"
     ]
    }
   ],
   "source": [
    "### CODE HERE ###\n",
    "import random\n",
    "\n",
    "def load_all_items():\n",
    "    with open(\"wizard_all_items.txt\", \"r\") as f:\n",
    "        items = [line for line in f if line]\n",
    "    return items\n",
    "\n",
    "def invent():\n",
    "    with open(\"wizard_inventory.txt\", \"r\") as f:\n",
    "        inventory = [line.strip() for line in f if line.strip()]\n",
    "    return inventory\n",
    "\n",
    "def save_inventory(inventory):\n",
    "    with open(\"wizard_inventory.txt\", \"w\") as f:\n",
    "        for item in inventory:\n",
    "            f.write(item + \"\\n\")\n",
    "\n",
    "def walk(inventory):\n",
    "    all_items = load_all_items()\n",
    "    if not all_items:\n",
    "        print(\"Error\")\n",
    "        return inventory\n",
    "\n",
    "    item = random.choice(all_items)\n",
    "    print(f\"While walking down a path, you see {item.strip()}.\")\n",
    "    grab = input(\"Do you want to grab it? (y/n): \")\n",
    "\n",
    "    if grab == \"y\":\n",
    "        if len(inventory) >= 4:\n",
    "            print(\"You can't carry any more items. Drop something first.\")\n",
    "        else:\n",
    "            inventory.append(item)\n",
    "            save_inventory(inventory)\n",
    "            print(f\"You picked up a {item.strip()}.\")\n",
    "    elif grab == \"n\":\n",
    "        print(\"You decided not to pick it up.\")\n",
    "    else:\n",
    "        print(\"Invalid input. No action taken.\")\n",
    "    \n",
    "    return inventory\n",
    "\n",
    "def show(inventory):\n",
    "    if not inventory:\n",
    "        print(\"Your inventory is empty.\")\n",
    "    else:\n",
    "        for idx, item in enumerate(inventory, 1):\n",
    "            print(f\"{idx}.\\t{item}\")\n",
    "\n",
    "def drop(inventory):\n",
    "    if not inventory:\n",
    "        print(\"Your inventory is empty.\")\n",
    "        return inventory\n",
    "    num = int(input(\"Number: \"))\n",
    "    if num < 1 or num > len(inventory):\n",
    "        print(\"Invalid item number.\")\n",
    "    else:\n",
    "        dropped = inventory.pop(num - 1)\n",
    "        save_inventory(inventory)\n",
    "        print(f\"You dropped a {dropped.strip()}.\")\n",
    "    return inventory\n",
    "\n",
    "def main():\n",
    "    inventory = invent()\n",
    "    \n",
    "    print(\"The Wizard Inventory Program\\n\")\n",
    "    print(\"COMMAND MENU\")\n",
    "    print(\"walk - Walk down the path\")\n",
    "    print(\"show - Show all items\")\n",
    "    print(\"drop - Drop an item\")\n",
    "    print(\"exit - Exit program\")\n",
    "    \n",
    "    while True:\n",
    "        print()\n",
    "        command = input(\"Command: \")\n",
    "        if command == \"walk\":\n",
    "            inventory = walk(inventory)\n",
    "        elif command == \"show\":\n",
    "            show(inventory)\n",
    "        elif command == \"drop\":\n",
    "            inventory = drop(inventory)\n",
    "        elif command == \"exit\":\n",
    "            print(\"Bye!\")\n",
    "            break\n",
    "        else:\n",
    "            print(\"Not a valid command. Please try again.\")\n",
    "\n",
    "if __name__ == \"__main__\":\n",
    "    main()"
   ]
  },
  {
   "cell_type": "markdown",
   "metadata": {},
   "source": [
    "## 7.3 Monthly Sales\n",
    "Create a program that reads the sales for 12 months from a file and calculates the total yearly sales as well as the average monthly sales. In addition, this program should let the user edit the sales for any month.\n",
    "\n",
    "### Console:\n",
    "```powershell\n",
    "Monthly Sales program\n",
    "\n",
    "COMMAND MENU\n",
    "monthly - View monthly sales \n",
    "yearly\t- View yearly sumary \n",
    "edit\t- Edit sales for a month \n",
    "exit\t- Exit program\n",
    "\n",
    "Command: monthly \n",
    "Jan - 14317\n",
    "Feb - 3903\n",
    "Mar - 1073\n",
    "Apr - 3463\n",
    "May - 2429\n",
    "Jun - 4324\n",
    "Jul - 9762\n",
    "Aug - 15578\n",
    "Sep - 2437\n",
    "Oct - 6735\n",
    "Nov - 88\n",
    "Dec - 2497\n",
    "\n",
    "Command: yearly\n",
    "Yearly total:\t66606\n",
    "Monthly average:\t5550.5\n",
    "\n",
    "Command: edit\n",
    "Three-letter Month: Nov Sales Amount: 8854\n",
    "Sales amount for Nov was modified.\n",
    "\n",
    "Command: exit Bye!\n",
    "```\n",
    "\n",
    "### Specifications:\n",
    "- Use the attached text file named CSV file named `monthly_sales.csv` that contains the month and sales data shown above.\n",
    "- For the edit command, display an error message if the user doesn’t enter a valid three-letter abbreviation for the month.\n",
    "- When the user edits the sales amount for a month, the data should be saved to the CSV file immediately. That way, no data is lost, even if the program crashes later.\n",
    "- Round the results of the monthly average to a maximum of 2 decimal digits."
   ]
  },
  {
   "cell_type": "code",
   "execution_count": 16,
   "metadata": {},
   "outputs": [
    {
     "name": "stdout",
     "output_type": "stream",
     "text": [
      "Monthly Sales program\n",
      "COMMAND MENU\n",
      "monthly - View monthly sales\n",
      "yearly\t- View yearly sumary\n",
      "edit\t- Edit sales for a month\n",
      "exit\t- Exit program\n"
     ]
    },
    {
     "name": "stdin",
     "output_type": "stream",
     "text": [
      "\n",
      "Command:  monthly\n"
     ]
    },
    {
     "name": "stdout",
     "output_type": "stream",
     "text": [
      "Jan - 14317\n",
      "Feb - 3903\n",
      "Mar - 1073\n",
      "Apr - 3463\n",
      "May - 2429\n",
      "Jun - 4324\n",
      "Jul - 9762\n",
      "Aug - 15578\n",
      "Sep - 2437\n",
      "Oct - 6735\n",
      "Nov - 8854\n",
      "Dec - 2497\n"
     ]
    },
    {
     "name": "stdin",
     "output_type": "stream",
     "text": [
      "\n",
      "Command:  yearly\n"
     ]
    },
    {
     "name": "stdout",
     "output_type": "stream",
     "text": [
      "Yearly total:\t75372\n",
      "Monthly average:\t6281.0\n"
     ]
    },
    {
     "name": "stdin",
     "output_type": "stream",
     "text": [
      "\n",
      "Command:  edit\n",
      "Three-letter Month:  Nov\n",
      "Sales Amount:  8854\n"
     ]
    },
    {
     "name": "stdout",
     "output_type": "stream",
     "text": [
      "Sales amount for Nov was modified.\n"
     ]
    },
    {
     "name": "stdin",
     "output_type": "stream",
     "text": [
      "\n",
      "Command:  exit\n"
     ]
    },
    {
     "name": "stdout",
     "output_type": "stream",
     "text": [
      "Bye!\n"
     ]
    }
   ],
   "source": [
    "### CODE HERE ###\n",
    "import csv\n",
    "\n",
    "def load_sales(filename):\n",
    "    sales = {}\n",
    "    with open(filename, newline='') as csvfile:\n",
    "            reader = csv.reader(csvfile)\n",
    "            for row in reader:\n",
    "                month = row[0]\n",
    "                amount = float(row[1])\n",
    "                sales[month] = amount\n",
    "    return sales\n",
    "\n",
    "def save_sales(filename, sales):\n",
    "    month_order = [\"Jan\", \"Feb\", \"Mar\", \"Apr\", \"May\", \"Jun\", \n",
    "                   \"Jul\", \"Aug\", \"Sep\", \"Oct\", \"Nov\", \"Dec\"]\n",
    "    with open(filename, \"w\", newline='') as csvfile:\n",
    "        writer = csv.writer(csvfile)\n",
    "        for month in month_order:\n",
    "            line = month + \",\" + str(sales[month]) + \"\\n\"\n",
    "            csvfile.write(line)\n",
    "\n",
    "def monthly(sales):\n",
    "    month_order = [\"Jan\", \"Feb\", \"Mar\", \"Apr\", \"May\", \"Jun\", \n",
    "                   \"Jul\", \"Aug\", \"Sep\", \"Oct\", \"Nov\", \"Dec\"]\n",
    "    for month in month_order:\n",
    "        print(f\"{month} - {int(sales[month])}\")\n",
    "\n",
    "def yearly(sales):\n",
    "    month_order = [\"Jan\", \"Feb\", \"Mar\", \"Apr\", \"May\", \"Jun\", \n",
    "                   \"Jul\", \"Aug\", \"Sep\", \"Oct\", \"Nov\", \"Dec\"]\n",
    "    total = sum(sales[m] for m in month_order)\n",
    "    avg = round(total / 12, 2)\n",
    "    print(f\"Yearly total:\\t{int(total)}\")\n",
    "    print(f\"Monthly average:\\t{avg}\")\n",
    "\n",
    "def edit(sales, filename):\n",
    "    valid_months = [\"Jan\", \"Feb\", \"Mar\", \"Apr\", \"May\", \"Jun\", \n",
    "                    \"Jul\", \"Aug\", \"Sep\", \"Oct\", \"Nov\", \"Dec\"]\n",
    "    month = input(\"Three-letter Month: \")\n",
    "    if month not in valid_months:\n",
    "        print(\"Error: Invalid month abbreviation.\")\n",
    "        return\n",
    "    new_amount = float(input(\"Sales Amount: \"))\n",
    "    sales[month] = new_amount\n",
    "    save_sales(filename, sales)\n",
    "    print(f\"Sales amount for {month} was modified.\")\n",
    "    \n",
    "def main():\n",
    "    filename = \"monthly_sales.csv\"\n",
    "    sales = load_sales(filename)\n",
    "\n",
    "    print(\"Monthly Sales program\\nCOMMAND MENU\\nmonthly - View monthly sales\\nyearly\t- View yearly sumary\\nedit\t- Edit sales for a month\\nexit\t- Exit program\")\n",
    "\n",
    "    while True:\n",
    "        command = input(\"\\nCommand: \")\n",
    "        if command == \"monthly\":\n",
    "            monthly(sales)\n",
    "        elif command == \"yearly\":\n",
    "            yearly(sales)\n",
    "        elif command == \"edit\":\n",
    "            edit(sales, filename)\n",
    "            sales = load_sales(filename)\n",
    "        elif command == \"exit\":\n",
    "            print(\"Bye!\")\n",
    "            break\n",
    "        else:\n",
    "            print(\"Not a valid command. Please try again.\")\n",
    "\n",
    "if __name__ == \"__main__\":\n",
    "    main()"
   ]
  },
  {
   "cell_type": "code",
   "execution_count": null,
   "metadata": {},
   "outputs": [],
   "source": []
  }
 ],
 "metadata": {
  "kernelspec": {
   "display_name": "Python [conda env:base] *",
   "language": "python",
   "name": "conda-base-py"
  },
  "language_info": {
   "codemirror_mode": {
    "name": "ipython",
    "version": 3
   },
   "file_extension": ".py",
   "mimetype": "text/x-python",
   "name": "python",
   "nbconvert_exporter": "python",
   "pygments_lexer": "ipython3",
   "version": "3.12.2"
  }
 },
 "nbformat": 4,
 "nbformat_minor": 4
}
